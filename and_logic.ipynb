{
 "cells": [
  {
   "cell_type": "code",
   "execution_count": null,
   "id": "ccd83a6d",
   "metadata": {},
   "outputs": [],
   "source": [
    "def AND_gate(x1, x2):\n",
    "    # weights\n",
    "    w1 = 0.5\n",
    "    w2 = 0.5\n",
    "    bias = -0.6\n",
    "\n",
    "    # forward\n",
    "    result = x1*w1 + x2*w2 + bias\n",
    "\n",
    "    # activation\n",
    "    if result > 0:\n",
    "        return 1\n",
    "    else:\n",
    "        return 0\n",
    "\n",
    "print(AND_gate(0,0), AND_gate(0,1), AND_gate(1,0), AND_gate(1,1))"
   ]
  },
  {
   "cell_type": "code",
   "execution_count": null,
   "id": "0c4ed2ab",
   "metadata": {},
   "outputs": [],
   "source": []
  }
 ],
 "metadata": {
  "kernelspec": {
   "display_name": "base",
   "language": "python",
   "name": "python3"
  },
  "language_info": {
   "name": "python",
   "version": "3.12.7"
  }
 },
 "nbformat": 4,
 "nbformat_minor": 5
}
